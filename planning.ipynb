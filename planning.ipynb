{
 "cells": [
  {
   "cell_type": "markdown",
   "id": "295d2655",
   "metadata": {},
   "source": [
    "# Planering av examination\n",
    "## Frågeställning\n",
    "## Källor\n",
    "https://scikit-learn.org/stable/auto_examples/text/plot_document_classification_20newsgroups.html - Exempel på hur man kan arbeta med texter från scikit learn\n",
    "https://www.kaggle.com/datasets/devashishprasad/documnet-layout-recognition-dataset-publaynet-t0/data - Ett dataset med dokument som är annoterade med title, text, figure, table och list\n",
    "https://guillaumejaume.github.io/FUNSD/description/ - Ett dataset med inskannade dokument för dokumentklassificering\n",
    "https://labelformat.com/formats/object-detection/coco/ - Förklaring till COCO dataset format. Även: https://cocodataset.org/#format-data \n",
    "\n",
    "Använt för tips och idéer:\n",
    "https://github.com/AyanGadpal/Document-Image-Augmentation\n",
    "https://github.com/DevashishPrasad/CascadeTabNet\n",
    "\n",
    "## Arbetsordning\n",
    "1. Hantera data så att den går att använda\n",
    "    - PLN:\n",
    "        - Json-filen med annotationerna var väldigt stor så datorn klarade inte av att läsa in den rakt upp och ned istället fick jag skriva ett script som skulle hantera filen genom att läsa in delar med *ijson* och jag använde *polars* istället för pandas. Detta för att lättare kunna spara ned datan med *parquet* (ge lite grund till både polars och parquet). Eftersom 'annotations' var stor fick jag ta den i chunks.\n",
    "        - Det visade sig också att json-filen innehöll samtliga annotationer för hela original-datasetet, men antalet dokument som fanns tillgängligt på kaggle.com innehöll knappt 48 000 dokument. Därför filtrerade jag DataFrame till att innehålla bara de rader som jag hade dokument för.\n",
    "        - Förbereda dataset till binär klassficering av title_page True/False genom att lägga till en kolumn som står för om en bild är title_paage eller inte. Samtliga filer med '00000' är title page. Tog bort alla kolumner förutom title_page och file_name och behöll sedan en rad per unikt filnamn. Sedan checkade jag så att alla filnamn stämde överens mellan DF och /documents.\n",
    "        - Förberedde bilderna genom att sätta gråskala, resize, normalisera pixelvärdena, flatten. Eftersom det var så många bilder körde jag dem i batcher.\n",
    "        - Skapar ett mindre dataset för att utforska hur jag ska bygga en pipeline.\n",
    "        - Utforskar hur RandomForest, SVM, LogisticRegression och KNeighborsClassifier beter sig på det mindre datasetet.\n",
    "    - FUNSD:\n",
    "        - \n",
    "Hur ska jag jobba med bilder?\n",
    "2. Förstå hur det fungerar med dokumentigenkänning, element i dokument, text\n",
    "    Steg att ta:\n",
    "        - Binärt klassificering av dokument: Är det en förstasida eller inte.\n",
    "        - Klustringsproblem?: Vilka förstasidor ör av samma kategori?\n",
    "        - Vilka textelement är av samma typ?\n",
    "3. Använda ett färdigt exempel med dataset från Scikit Learn\n",
    "\n",
    "\n",
    "## COCO dataset format\n",
    "Ett standardformat för objekt-detektion och segmentering, som består av tre huvudnycklar: Images, Categories och Annotations. I Images ges detaljer om bilden/dokumentet i form av file_name, height, width och id. Categories ger de olika kategorierna som finns i bilden utifrån id som i sin tur är kopplat till name, ex id: 1, name: \"text\". Det kan också finnas supercategory, alltså överkategori. I Annotations finns följande:\n",
    "- segmentation, som ger en lista med polygon-koordinater, vilka definierar exakta pixelgränser för kategorin. \n",
    "- bbox, i formatet [x, y, width, height] och som ger minsta rektangel som omsluter objektet, mätt från övre vänstra hörnet.\n",
    "- area, som visar segmentets area.\n",
    "- iscrowd i formatet 0 eller 1, som visar om det är ett enskilt objekt eller en grupp av objekt.\n",
    "- image_id, som är en referens till bilden, till vilken annotationen tillhör.\n",
    "- category_id i heltal, som anger vilken kategori (Categories) som segmentet tillhör.\n",
    "- id, som är ett unikt id för respektive annotation.\n",
    "\n",
    "Sammanfattningsvis har en bild många annotationer, varje annotation tillhör en kategori, annotationen har exakta gränser samt en rektangel med areauträkning.\n",
    "\n",
    "## Images"
   ]
  },
  {
   "cell_type": "markdown",
   "id": "f716062a",
   "metadata": {},
   "source": []
  }
 ],
 "metadata": {
  "kernelspec": {
   "display_name": "examination-ai-application",
   "language": "python",
   "name": "python3"
  },
  "language_info": {
   "name": "python",
   "version": "3.11.2"
  }
 },
 "nbformat": 4,
 "nbformat_minor": 5
}
