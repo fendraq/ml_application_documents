{
 "cells": [
  {
   "cell_type": "markdown",
   "id": "295d2655",
   "metadata": {},
   "source": [
    "# Planering av examination\n",
    "## Frågeställning\n",
    "## Källor\n",
    "https://scikit-learn.org/stable/auto_examples/text/plot_document_classification_20newsgroups.html - Exempel på hur man kan arbeta med texter från scikit learn\n",
    "https://www.kaggle.com/datasets/devashishprasad/documnet-layout-recognition-dataset-publaynet-t0/data - Ett dataset med dokument som är annoterade med title, text, figure, table och list\n",
    "https://guillaumejaume.github.io/FUNSD/description/ - Ett dataset med inskannade dokument för dokumentklassificering\n",
    "## Arbetsordning\n",
    "1. Förstå hur det fungerar med dokumentigenkänning, element i dokument, text\n",
    "2. Använda ett färdigt exempel med dataset från Scikit Learn"
   ]
  }
 ],
 "metadata": {
  "kernelspec": {
   "display_name": "examination-ai-application",
   "language": "python",
   "name": "python3"
  },
  "language_info": {
   "name": "python",
   "version": "3.11.2"
  }
 },
 "nbformat": 4,
 "nbformat_minor": 5
}
