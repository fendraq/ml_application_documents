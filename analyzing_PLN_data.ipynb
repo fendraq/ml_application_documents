{
 "cells": [
  {
   "cell_type": "code",
   "execution_count": null,
   "id": "7d392913",
   "metadata": {},
   "outputs": [
    {
     "name": "stdout",
     "output_type": "stream",
     "text": [
      "{\"images\": [{\"file_name\": \"PMC3866684_00003.jpg\", \"height\": 811, \"id\": 0, \"width\": 613}, {\"file_name\": \"PMC3866684_00001.jpg\", \"height\": 811, \"id\": 1, \"width\": 613}, {\"file_name\": \"PMC3866684_00002.jpg\", \"height\": 811, \"id\": 2, \"width\": 613}, {\"file_name\": \"PMC3866684_00005.jpg\", \"height\": 811, \"id\": 3, \"width\": 613}, {\"file_name\": \"PMC3866684_00006.jpg\", \"height\": 811, \"id\": 4, \"width\": 613}, {\"file_name\": \"PMC3866684_00007.jpg\", \"height\": 811, \"id\": 5, \"width\": 613}, {\"file_name\": \"PMC3866684_00009.jpg\", \"height\": 811, \"id\": 6, \"width\": 613}, {\"file_name\": \"PMC3866684_00011.jpg\", \"height\": 811, \"id\": 7, \"width\": 613}, {\"file_name\": \"PMC3866684_00012.jpg\", \"height\": 811, \"id\": 8, \"width\": 613}, {\"file_name\": \"PMC3866684_00013.jpg\", \"height\": 811, \"id\": 9, \"width\": 613}, {\"file_name\": \"PMC3866684_00015.jpg\", \"height\": 811, \"id\": 10, \"width\": 613}, {\"file_name\": \"PMC3866684_00016.jpg\", \"height\": 811, \"id\": 11, \"width\": 613}, {\"file_name\": \"PMC3866684_00017.jpg\", \"height\": 811, \"id\": 12,\n"
     ]
    }
   ],
   "source": [
    "import ijson\n",
    "import json\n",
    "\n",
    "# Hantera json, eftersom den är stor\n",
    "with open('data/Pub_Lay_Net/labels.json', 'rb') as file:\n",
    "    sample = file.read(1000).decode('utf-8')\n",
    "    print(sample)\n"
   ]
  }
 ],
 "metadata": {
  "kernelspec": {
   "display_name": "examination-ai-application",
   "language": "python",
   "name": "python3"
  },
  "language_info": {
   "codemirror_mode": {
    "name": "ipython",
    "version": 3
   },
   "file_extension": ".py",
   "mimetype": "text/x-python",
   "name": "python",
   "nbconvert_exporter": "python",
   "pygments_lexer": "ipython3",
   "version": "3.11.2"
  }
 },
 "nbformat": 4,
 "nbformat_minor": 5
}
