{
 "cells": [
  {
   "cell_type": "code",
   "execution_count": 1,
   "id": "7d392913",
   "metadata": {},
   "outputs": [],
   "source": [
    "import ijson\n",
    "import json\n",
    "import pandas as pd\n",
    "\n",
    "# Hantera json, eftersom den är stor\n",
    "\"\"\" with open('data/Pub_Lay_Net/labels.json', 'rb') as file:\n",
    "    sample = file.read(1000).decode('utf-8')\n",
    "    print(sample) \"\"\"\n",
    "\n",
    "df = pd.read_json('data/Pub_Lay_Net/labels.json', orient='records', lines=True)"
   ]
  },
  {
   "cell_type": "code",
   "execution_count": 2,
   "id": "78d45773",
   "metadata": {},
   "outputs": [],
   "source": [
    "# tre huvudnycklar\n",
    "df_images = pd.json_normalize(df['images'].iloc[0])\n",
    "df_annotations = pd.json_normalize(df['annotations'].iloc[0])\n",
    "df_categories = pd.json_normalize(df['categories'].iloc[0])"
   ]
  },
  {
   "cell_type": "code",
   "execution_count": 3,
   "id": "ab670627",
   "metadata": {},
   "outputs": [
    {
     "name": "stdout",
     "output_type": "stream",
     "text": [
      "Full merged dataset shape: (3263046, 14)\n",
      "Available columns:  ['segmentation', 'area', 'iscrowd', 'image_id', 'bbox', 'category_id', 'id_ann', 'file_name', 'height', 'id_img', 'width', 'supercategory', 'id', 'name']\n"
     ]
    },
    {
     "data": {
      "application/vnd.microsoft.datawrangler.viewer.v0+json": {
       "columns": [
        {
         "name": "index",
         "rawType": "int64",
         "type": "integer"
        },
        {
         "name": "segmentation",
         "rawType": "object",
         "type": "unknown"
        },
        {
         "name": "area",
         "rawType": "float64",
         "type": "float"
        },
        {
         "name": "iscrowd",
         "rawType": "int64",
         "type": "integer"
        },
        {
         "name": "image_id",
         "rawType": "int64",
         "type": "integer"
        },
        {
         "name": "bbox",
         "rawType": "object",
         "type": "unknown"
        },
        {
         "name": "category_id",
         "rawType": "int64",
         "type": "integer"
        },
        {
         "name": "id_ann",
         "rawType": "int64",
         "type": "integer"
        },
        {
         "name": "file_name",
         "rawType": "object",
         "type": "string"
        },
        {
         "name": "height",
         "rawType": "int64",
         "type": "integer"
        },
        {
         "name": "id_img",
         "rawType": "int64",
         "type": "integer"
        },
        {
         "name": "width",
         "rawType": "int64",
         "type": "integer"
        },
        {
         "name": "supercategory",
         "rawType": "object",
         "type": "string"
        },
        {
         "name": "id",
         "rawType": "int64",
         "type": "integer"
        },
        {
         "name": "name",
         "rawType": "object",
         "type": "string"
        }
       ],
       "ref": "77d04876-83d8-444d-b699-6785c485d3a4",
       "rows": [
        [
         "0",
         "[[52.38, 444.87, 291.97, 444.87, 291.97, 456.42, 291.97, 456.42, 291.97, 465.8, 291.97, 465.8, 291.97, 476.27, 291.97, 476.27, 291.97, 487.8, 291.97, 487.8, 291.97, 498.26, 86.41, 498.26, 86.41, 508.73, 40.42, 508.73, 40.42, 497.17, 40.42, 497.17, 40.42, 486.71, 40.42, 486.71, 40.42, 476.27, 40.42, 476.27, 40.42, 466.88, 40.42, 466.88, 40.42, 455.33, 52.38, 455.33, 52.38, 444.87]]",
         "13787.433082525036",
         "0",
         "0",
         "[40.42, 444.87, 251.55, 63.86]",
         "1",
         "0",
         "PMC3866684_00003.jpg",
         "811",
         "0",
         "613",
         "",
         "1",
         "text"
        ],
        [
         "1",
         "[[309.91, 444.91, 561.46, 444.91, 561.46, 456.42, 345.43, 456.42, 345.43, 466.88, 309.91, 466.88, 309.91, 456.42, 309.91, 456.42, 309.91, 444.91]]",
         "3266.252633666969",
         "0",
         "0",
         "[309.91, 444.91, 251.55, 21.97]",
         "1",
         "1",
         "PMC3866684_00003.jpg",
         "811",
         "0",
         "613",
         "",
         "1",
         "text"
        ],
        [
         "2",
         "[[52.38, 507.66, 291.97, 507.66, 291.97, 519.19, 291.97, 519.19, 291.97, 529.65, 291.97, 529.65, 291.97, 540.11, 40.42, 540.11, 40.42, 528.56, 40.42, 528.56, 40.42, 518.1, 52.38, 518.1, 52.38, 507.66]]",
         "8037.095046702656",
         "0",
         "0",
         "[40.42, 507.66, 251.55, 32.45]",
         "1",
         "2",
         "PMC3866684_00003.jpg",
         "811",
         "0",
         "613",
         "",
         "1",
         "text"
        ],
        [
         "3",
         "[[321.87, 465.8, 561.46, 465.8, 561.46, 477.34, 561.46, 477.34, 561.46, 486.71, 561.46, 486.71, 561.46, 498.26, 561.46, 498.26, 561.46, 508.73, 561.46, 508.73, 561.46, 519.19, 561.46, 519.19, 561.46, 529.65, 561.46, 529.65, 561.46, 540.11, 309.91, 540.11, 309.91, 529.65, 309.91, 529.65, 309.91, 518.09, 309.91, 518.09, 309.91, 507.63, 309.91, 507.63, 309.91, 497.18, 309.91, 497.18, 309.91, 487.8, 309.91, 487.8, 309.91, 476.26, 321.87, 476.26, 321.87, 465.8]]",
         "18566.00016906159",
         "0",
         "0",
         "[309.91, 465.8, 251.55, 74.3]",
         "1",
         "3",
         "PMC3866684_00003.jpg",
         "811",
         "0",
         "613",
         "",
         "1",
         "text"
        ],
        [
         "4",
         "[[40.42, 397.09, 561.44, 397.09, 561.44, 405.57, 561.44, 405.57, 561.44, 414.78, 561.44, 414.78, 561.44, 423.35, 443.73, 423.35, 443.73, 431.92, 40.42, 431.92, 40.42, 422.7, 40.42, 422.7, 40.42, 414.78, 40.42, 414.78, 40.42, 405.57, 40.42, 405.57, 40.42, 397.09]]",
         "17140.38018086704",
         "0",
         "0",
         "[40.42, 397.09, 521.02, 34.83]",
         "1",
         "4",
         "PMC3866684_00003.jpg",
         "811",
         "0",
         "613",
         "",
         "1",
         "text"
        ]
       ],
       "shape": {
        "columns": 14,
        "rows": 5
       }
      },
      "text/html": [
       "<div>\n",
       "<style scoped>\n",
       "    .dataframe tbody tr th:only-of-type {\n",
       "        vertical-align: middle;\n",
       "    }\n",
       "\n",
       "    .dataframe tbody tr th {\n",
       "        vertical-align: top;\n",
       "    }\n",
       "\n",
       "    .dataframe thead th {\n",
       "        text-align: right;\n",
       "    }\n",
       "</style>\n",
       "<table border=\"1\" class=\"dataframe\">\n",
       "  <thead>\n",
       "    <tr style=\"text-align: right;\">\n",
       "      <th></th>\n",
       "      <th>segmentation</th>\n",
       "      <th>area</th>\n",
       "      <th>iscrowd</th>\n",
       "      <th>image_id</th>\n",
       "      <th>bbox</th>\n",
       "      <th>category_id</th>\n",
       "      <th>id_ann</th>\n",
       "      <th>file_name</th>\n",
       "      <th>height</th>\n",
       "      <th>id_img</th>\n",
       "      <th>width</th>\n",
       "      <th>supercategory</th>\n",
       "      <th>id</th>\n",
       "      <th>name</th>\n",
       "    </tr>\n",
       "  </thead>\n",
       "  <tbody>\n",
       "    <tr>\n",
       "      <th>0</th>\n",
       "      <td>[[52.38, 444.87, 291.97, 444.87, 291.97, 456.4...</td>\n",
       "      <td>13787.433083</td>\n",
       "      <td>0</td>\n",
       "      <td>0</td>\n",
       "      <td>[40.42, 444.87, 251.55, 63.86]</td>\n",
       "      <td>1</td>\n",
       "      <td>0</td>\n",
       "      <td>PMC3866684_00003.jpg</td>\n",
       "      <td>811</td>\n",
       "      <td>0</td>\n",
       "      <td>613</td>\n",
       "      <td></td>\n",
       "      <td>1</td>\n",
       "      <td>text</td>\n",
       "    </tr>\n",
       "    <tr>\n",
       "      <th>1</th>\n",
       "      <td>[[309.91, 444.91, 561.46, 444.91, 561.46, 456....</td>\n",
       "      <td>3266.252634</td>\n",
       "      <td>0</td>\n",
       "      <td>0</td>\n",
       "      <td>[309.91, 444.91, 251.55, 21.97]</td>\n",
       "      <td>1</td>\n",
       "      <td>1</td>\n",
       "      <td>PMC3866684_00003.jpg</td>\n",
       "      <td>811</td>\n",
       "      <td>0</td>\n",
       "      <td>613</td>\n",
       "      <td></td>\n",
       "      <td>1</td>\n",
       "      <td>text</td>\n",
       "    </tr>\n",
       "    <tr>\n",
       "      <th>2</th>\n",
       "      <td>[[52.38, 507.66, 291.97, 507.66, 291.97, 519.1...</td>\n",
       "      <td>8037.095047</td>\n",
       "      <td>0</td>\n",
       "      <td>0</td>\n",
       "      <td>[40.42, 507.66, 251.55, 32.45]</td>\n",
       "      <td>1</td>\n",
       "      <td>2</td>\n",
       "      <td>PMC3866684_00003.jpg</td>\n",
       "      <td>811</td>\n",
       "      <td>0</td>\n",
       "      <td>613</td>\n",
       "      <td></td>\n",
       "      <td>1</td>\n",
       "      <td>text</td>\n",
       "    </tr>\n",
       "    <tr>\n",
       "      <th>3</th>\n",
       "      <td>[[321.87, 465.8, 561.46, 465.8, 561.46, 477.34...</td>\n",
       "      <td>18566.000169</td>\n",
       "      <td>0</td>\n",
       "      <td>0</td>\n",
       "      <td>[309.91, 465.8, 251.55, 74.3]</td>\n",
       "      <td>1</td>\n",
       "      <td>3</td>\n",
       "      <td>PMC3866684_00003.jpg</td>\n",
       "      <td>811</td>\n",
       "      <td>0</td>\n",
       "      <td>613</td>\n",
       "      <td></td>\n",
       "      <td>1</td>\n",
       "      <td>text</td>\n",
       "    </tr>\n",
       "    <tr>\n",
       "      <th>4</th>\n",
       "      <td>[[40.42, 397.09, 561.44, 397.09, 561.44, 405.5...</td>\n",
       "      <td>17140.380181</td>\n",
       "      <td>0</td>\n",
       "      <td>0</td>\n",
       "      <td>[40.42, 397.09, 521.02, 34.83]</td>\n",
       "      <td>1</td>\n",
       "      <td>4</td>\n",
       "      <td>PMC3866684_00003.jpg</td>\n",
       "      <td>811</td>\n",
       "      <td>0</td>\n",
       "      <td>613</td>\n",
       "      <td></td>\n",
       "      <td>1</td>\n",
       "      <td>text</td>\n",
       "    </tr>\n",
       "  </tbody>\n",
       "</table>\n",
       "</div>"
      ],
      "text/plain": [
       "                                        segmentation          area  iscrowd  \\\n",
       "0  [[52.38, 444.87, 291.97, 444.87, 291.97, 456.4...  13787.433083        0   \n",
       "1  [[309.91, 444.91, 561.46, 444.91, 561.46, 456....   3266.252634        0   \n",
       "2  [[52.38, 507.66, 291.97, 507.66, 291.97, 519.1...   8037.095047        0   \n",
       "3  [[321.87, 465.8, 561.46, 465.8, 561.46, 477.34...  18566.000169        0   \n",
       "4  [[40.42, 397.09, 561.44, 397.09, 561.44, 405.5...  17140.380181        0   \n",
       "\n",
       "   image_id                             bbox  category_id  id_ann  \\\n",
       "0         0   [40.42, 444.87, 251.55, 63.86]            1       0   \n",
       "1         0  [309.91, 444.91, 251.55, 21.97]            1       1   \n",
       "2         0   [40.42, 507.66, 251.55, 32.45]            1       2   \n",
       "3         0    [309.91, 465.8, 251.55, 74.3]            1       3   \n",
       "4         0   [40.42, 397.09, 521.02, 34.83]            1       4   \n",
       "\n",
       "              file_name  height  id_img  width supercategory  id  name  \n",
       "0  PMC3866684_00003.jpg     811       0    613                 1  text  \n",
       "1  PMC3866684_00003.jpg     811       0    613                 1  text  \n",
       "2  PMC3866684_00003.jpg     811       0    613                 1  text  \n",
       "3  PMC3866684_00003.jpg     811       0    613                 1  text  \n",
       "4  PMC3866684_00003.jpg     811       0    613                 1  text  "
      ]
     },
     "execution_count": 3,
     "metadata": {},
     "output_type": "execute_result"
    }
   ],
   "source": [
    "df_merged = df_annotations.merge(df_images, left_on='image_id', right_on='id', suffixes=('_ann', '_img'))\n",
    "df_full = df_merged.merge(df_categories, left_on='category_id', right_on='id', suffixes=('', '_cat'))\n",
    "\n",
    "print(f\"Full merged dataset shape: {df_full.shape}\")\n",
    "print(\"Available columns: \", df_full.columns.tolist())\n",
    "df_full.head()"
   ]
  },
  {
   "cell_type": "code",
   "execution_count": 5,
   "id": "709c3e88",
   "metadata": {},
   "outputs": [
    {
     "ename": "ArrowKeyError",
     "evalue": "No type extension with name arrow.py_extension_type found",
     "output_type": "error",
     "traceback": [
      "\u001b[31m---------------------------------------------------------------------------\u001b[39m",
      "\u001b[31mArrowKeyError\u001b[39m                             Traceback (most recent call last)",
      "\u001b[36mCell\u001b[39m\u001b[36m \u001b[39m\u001b[32mIn[5]\u001b[39m\u001b[32m, line 5\u001b[39m\n\u001b[32m      1\u001b[39m \u001b[38;5;28;01mimport\u001b[39;00m\u001b[38;5;250m \u001b[39m\u001b[34;01mos\u001b[39;00m\n\u001b[32m      3\u001b[39m os.makedirs(\u001b[33m'\u001b[39m\u001b[33mdata/processed/labels/\u001b[39m\u001b[33m'\u001b[39m, exist_ok=\u001b[38;5;28;01mTrue\u001b[39;00m)\n\u001b[32m----> \u001b[39m\u001b[32m5\u001b[39m \u001b[43mdf_images\u001b[49m\u001b[43m.\u001b[49m\u001b[43mto_parquet\u001b[49m\u001b[43m(\u001b[49m\u001b[33;43m'\u001b[39;49m\u001b[33;43mdata/processed/labels/df_images.parquet\u001b[39;49m\u001b[33;43m'\u001b[39;49m\u001b[43m)\u001b[49m\n\u001b[32m      6\u001b[39m df_annotations.to_parquet(\u001b[33m'\u001b[39m\u001b[33mdata/processed/labels/df_annotations.parquet\u001b[39m\u001b[33m'\u001b[39m)\n\u001b[32m      7\u001b[39m df_categories.to_parquet(\u001b[33m'\u001b[39m\u001b[33mdata/processed/labels/df_categories.parquet\u001b[39m\u001b[33m'\u001b[39m)\n",
      "\u001b[36mFile \u001b[39m\u001b[32m~/wsl_projects/machine_learning/examination_ai_application/.venv/lib/python3.11/site-packages/pandas/util/_decorators.py:333\u001b[39m, in \u001b[36mdeprecate_nonkeyword_arguments.<locals>.decorate.<locals>.wrapper\u001b[39m\u001b[34m(*args, **kwargs)\u001b[39m\n\u001b[32m    327\u001b[39m \u001b[38;5;28;01mif\u001b[39;00m \u001b[38;5;28mlen\u001b[39m(args) > num_allow_args:\n\u001b[32m    328\u001b[39m     warnings.warn(\n\u001b[32m    329\u001b[39m         msg.format(arguments=_format_argument_list(allow_args)),\n\u001b[32m    330\u001b[39m         \u001b[38;5;167;01mFutureWarning\u001b[39;00m,\n\u001b[32m    331\u001b[39m         stacklevel=find_stack_level(),\n\u001b[32m    332\u001b[39m     )\n\u001b[32m--> \u001b[39m\u001b[32m333\u001b[39m \u001b[38;5;28;01mreturn\u001b[39;00m \u001b[43mfunc\u001b[49m\u001b[43m(\u001b[49m\u001b[43m*\u001b[49m\u001b[43margs\u001b[49m\u001b[43m,\u001b[49m\u001b[43m \u001b[49m\u001b[43m*\u001b[49m\u001b[43m*\u001b[49m\u001b[43mkwargs\u001b[49m\u001b[43m)\u001b[49m\n",
      "\u001b[36mFile \u001b[39m\u001b[32m~/wsl_projects/machine_learning/examination_ai_application/.venv/lib/python3.11/site-packages/pandas/core/frame.py:3118\u001b[39m, in \u001b[36mDataFrame.to_parquet\u001b[39m\u001b[34m(self, path, engine, compression, index, partition_cols, storage_options, **kwargs)\u001b[39m\n\u001b[32m   3037\u001b[39m \u001b[38;5;250m\u001b[39m\u001b[33;03m\"\"\"\u001b[39;00m\n\u001b[32m   3038\u001b[39m \u001b[33;03mWrite a DataFrame to the binary parquet format.\u001b[39;00m\n\u001b[32m   3039\u001b[39m \n\u001b[32m   (...)\u001b[39m\u001b[32m   3114\u001b[39m \u001b[33;03m>>> content = f.read()\u001b[39;00m\n\u001b[32m   3115\u001b[39m \u001b[33;03m\"\"\"\u001b[39;00m\n\u001b[32m   3116\u001b[39m \u001b[38;5;28;01mfrom\u001b[39;00m\u001b[38;5;250m \u001b[39m\u001b[34;01mpandas\u001b[39;00m\u001b[34;01m.\u001b[39;00m\u001b[34;01mio\u001b[39;00m\u001b[34;01m.\u001b[39;00m\u001b[34;01mparquet\u001b[39;00m\u001b[38;5;250m \u001b[39m\u001b[38;5;28;01mimport\u001b[39;00m to_parquet\n\u001b[32m-> \u001b[39m\u001b[32m3118\u001b[39m \u001b[38;5;28;01mreturn\u001b[39;00m \u001b[43mto_parquet\u001b[49m\u001b[43m(\u001b[49m\n\u001b[32m   3119\u001b[39m \u001b[43m    \u001b[49m\u001b[38;5;28;43mself\u001b[39;49m\u001b[43m,\u001b[49m\n\u001b[32m   3120\u001b[39m \u001b[43m    \u001b[49m\u001b[43mpath\u001b[49m\u001b[43m,\u001b[49m\n\u001b[32m   3121\u001b[39m \u001b[43m    \u001b[49m\u001b[43mengine\u001b[49m\u001b[43m,\u001b[49m\n\u001b[32m   3122\u001b[39m \u001b[43m    \u001b[49m\u001b[43mcompression\u001b[49m\u001b[43m=\u001b[49m\u001b[43mcompression\u001b[49m\u001b[43m,\u001b[49m\n\u001b[32m   3123\u001b[39m \u001b[43m    \u001b[49m\u001b[43mindex\u001b[49m\u001b[43m=\u001b[49m\u001b[43mindex\u001b[49m\u001b[43m,\u001b[49m\n\u001b[32m   3124\u001b[39m \u001b[43m    \u001b[49m\u001b[43mpartition_cols\u001b[49m\u001b[43m=\u001b[49m\u001b[43mpartition_cols\u001b[49m\u001b[43m,\u001b[49m\n\u001b[32m   3125\u001b[39m \u001b[43m    \u001b[49m\u001b[43mstorage_options\u001b[49m\u001b[43m=\u001b[49m\u001b[43mstorage_options\u001b[49m\u001b[43m,\u001b[49m\n\u001b[32m   3126\u001b[39m \u001b[43m    \u001b[49m\u001b[43m*\u001b[49m\u001b[43m*\u001b[49m\u001b[43mkwargs\u001b[49m\u001b[43m,\u001b[49m\n\u001b[32m   3127\u001b[39m \u001b[43m\u001b[49m\u001b[43m)\u001b[49m\n",
      "\u001b[36mFile \u001b[39m\u001b[32m~/wsl_projects/machine_learning/examination_ai_application/.venv/lib/python3.11/site-packages/pandas/io/parquet.py:478\u001b[39m, in \u001b[36mto_parquet\u001b[39m\u001b[34m(df, path, engine, compression, index, storage_options, partition_cols, filesystem, **kwargs)\u001b[39m\n\u001b[32m    476\u001b[39m \u001b[38;5;28;01mif\u001b[39;00m \u001b[38;5;28misinstance\u001b[39m(partition_cols, \u001b[38;5;28mstr\u001b[39m):\n\u001b[32m    477\u001b[39m     partition_cols = [partition_cols]\n\u001b[32m--> \u001b[39m\u001b[32m478\u001b[39m impl = \u001b[43mget_engine\u001b[49m\u001b[43m(\u001b[49m\u001b[43mengine\u001b[49m\u001b[43m)\u001b[49m\n\u001b[32m    480\u001b[39m path_or_buf: FilePath | WriteBuffer[\u001b[38;5;28mbytes\u001b[39m] = io.BytesIO() \u001b[38;5;28;01mif\u001b[39;00m path \u001b[38;5;129;01mis\u001b[39;00m \u001b[38;5;28;01mNone\u001b[39;00m \u001b[38;5;28;01melse\u001b[39;00m path\n\u001b[32m    482\u001b[39m impl.write(\n\u001b[32m    483\u001b[39m     df,\n\u001b[32m    484\u001b[39m     path_or_buf,\n\u001b[32m   (...)\u001b[39m\u001b[32m    490\u001b[39m     **kwargs,\n\u001b[32m    491\u001b[39m )\n",
      "\u001b[36mFile \u001b[39m\u001b[32m~/wsl_projects/machine_learning/examination_ai_application/.venv/lib/python3.11/site-packages/pandas/io/parquet.py:64\u001b[39m, in \u001b[36mget_engine\u001b[39m\u001b[34m(engine)\u001b[39m\n\u001b[32m     62\u001b[39m \u001b[38;5;28;01mfor\u001b[39;00m engine_class \u001b[38;5;129;01min\u001b[39;00m engine_classes:\n\u001b[32m     63\u001b[39m     \u001b[38;5;28;01mtry\u001b[39;00m:\n\u001b[32m---> \u001b[39m\u001b[32m64\u001b[39m         \u001b[38;5;28;01mreturn\u001b[39;00m \u001b[43mengine_class\u001b[49m\u001b[43m(\u001b[49m\u001b[43m)\u001b[49m\n\u001b[32m     65\u001b[39m     \u001b[38;5;28;01mexcept\u001b[39;00m \u001b[38;5;167;01mImportError\u001b[39;00m \u001b[38;5;28;01mas\u001b[39;00m err:\n\u001b[32m     66\u001b[39m         error_msgs += \u001b[33m\"\u001b[39m\u001b[38;5;130;01m\\n\u001b[39;00m\u001b[33m - \u001b[39m\u001b[33m\"\u001b[39m + \u001b[38;5;28mstr\u001b[39m(err)\n",
      "\u001b[36mFile \u001b[39m\u001b[32m~/wsl_projects/machine_learning/examination_ai_application/.venv/lib/python3.11/site-packages/pandas/io/parquet.py:170\u001b[39m, in \u001b[36mPyArrowImpl.__init__\u001b[39m\u001b[34m(self)\u001b[39m\n\u001b[32m    167\u001b[39m \u001b[38;5;28;01mimport\u001b[39;00m\u001b[38;5;250m \u001b[39m\u001b[34;01mpyarrow\u001b[39;00m\u001b[34;01m.\u001b[39;00m\u001b[34;01mparquet\u001b[39;00m\n\u001b[32m    169\u001b[39m \u001b[38;5;66;03m# import utils to register the pyarrow extension types\u001b[39;00m\n\u001b[32m--> \u001b[39m\u001b[32m170\u001b[39m \u001b[38;5;28;01mimport\u001b[39;00m\u001b[38;5;250m \u001b[39m\u001b[34;01mpandas\u001b[39;00m\u001b[34;01m.\u001b[39;00m\u001b[34;01mcore\u001b[39;00m\u001b[34;01m.\u001b[39;00m\u001b[34;01marrays\u001b[39;00m\u001b[34;01m.\u001b[39;00m\u001b[34;01marrow\u001b[39;00m\u001b[34;01m.\u001b[39;00m\u001b[34;01mextension_types\u001b[39;00m  \u001b[38;5;66;03m# pyright: ignore[reportUnusedImport] # noqa: F401\u001b[39;00m\n\u001b[32m    172\u001b[39m \u001b[38;5;28mself\u001b[39m.api = pyarrow\n",
      "\u001b[36mFile \u001b[39m\u001b[32m~/wsl_projects/machine_learning/examination_ai_application/.venv/lib/python3.11/site-packages/pandas/core/arrays/arrow/extension_types.py:174\u001b[39m\n\u001b[32m    167\u001b[39m     pyarrow.register_extension_type(\n\u001b[32m    168\u001b[39m         ForbiddenExtensionType(pyarrow.null(), \u001b[33m\"\u001b[39m\u001b[33marrow.py_extension_type\u001b[39m\u001b[33m\"\u001b[39m)\n\u001b[32m    169\u001b[39m     )\n\u001b[32m    171\u001b[39m     pyarrow._hotfix_installed = \u001b[38;5;28;01mTrue\u001b[39;00m\n\u001b[32m--> \u001b[39m\u001b[32m174\u001b[39m \u001b[43mpatch_pyarrow\u001b[49m\u001b[43m(\u001b[49m\u001b[43m)\u001b[49m\n",
      "\u001b[36mFile \u001b[39m\u001b[32m~/wsl_projects/machine_learning/examination_ai_application/.venv/lib/python3.11/site-packages/pandas/core/arrays/arrow/extension_types.py:166\u001b[39m, in \u001b[36mpatch_pyarrow\u001b[39m\u001b[34m()\u001b[39m\n\u001b[32m    157\u001b[39m         pickletools.dis(serialized, out)\n\u001b[32m    158\u001b[39m         \u001b[38;5;28;01mraise\u001b[39;00m \u001b[38;5;167;01mRuntimeError\u001b[39;00m(\n\u001b[32m    159\u001b[39m             _ERROR_MSG.format(\n\u001b[32m    160\u001b[39m                 storage_type=storage_type,\n\u001b[32m   (...)\u001b[39m\u001b[32m    163\u001b[39m             )\n\u001b[32m    164\u001b[39m         )\n\u001b[32m--> \u001b[39m\u001b[32m166\u001b[39m \u001b[43mpyarrow\u001b[49m\u001b[43m.\u001b[49m\u001b[43munregister_extension_type\u001b[49m\u001b[43m(\u001b[49m\u001b[33;43m\"\u001b[39;49m\u001b[33;43marrow.py_extension_type\u001b[39;49m\u001b[33;43m\"\u001b[39;49m\u001b[43m)\u001b[49m\n\u001b[32m    167\u001b[39m pyarrow.register_extension_type(\n\u001b[32m    168\u001b[39m     ForbiddenExtensionType(pyarrow.null(), \u001b[33m\"\u001b[39m\u001b[33marrow.py_extension_type\u001b[39m\u001b[33m\"\u001b[39m)\n\u001b[32m    169\u001b[39m )\n\u001b[32m    171\u001b[39m pyarrow._hotfix_installed = \u001b[38;5;28;01mTrue\u001b[39;00m\n",
      "\u001b[36mFile \u001b[39m\u001b[32m~/wsl_projects/machine_learning/examination_ai_application/.venv/lib/python3.11/site-packages/pyarrow/types.pxi:2280\u001b[39m, in \u001b[36mpyarrow.lib.unregister_extension_type\u001b[39m\u001b[34m()\u001b[39m\n",
      "\u001b[36mFile \u001b[39m\u001b[32m~/wsl_projects/machine_learning/examination_ai_application/.venv/lib/python3.11/site-packages/pyarrow/error.pxi:92\u001b[39m, in \u001b[36mpyarrow.lib.check_status\u001b[39m\u001b[34m()\u001b[39m\n",
      "\u001b[31mArrowKeyError\u001b[39m: No type extension with name arrow.py_extension_type found"
     ]
    }
   ],
   "source": [
    "import os\n",
    "\n",
    "os.makedirs('data/processed/labels/', exist_ok=True)\n",
    "\n",
    "df_images.to_parquet('data/processed/labels/df_images.parquet')\n",
    "df_annotations.to_parquet('data/processed/labels/df_annotations.parquet')\n",
    "df_categories.to_parquet('data/processed/labels/df_categories.parquet')\n",
    "df_full.to_parquet('data/processed/labels/df_full.parquet')\n",
    "\n",
    "for file in ['df_images.parquet', 'df_annotations.parquet', 'df_categories.parquet', 'df_full.parquet']:\n",
    "    size_mb = os.path.getsize(f'data/processed/{file}') / (1024**2)\n",
    "    print(f\"{file}: {size_mb:.1f} MB\")"
   ]
  },
  {
   "cell_type": "code",
   "execution_count": null,
   "id": "35350db9",
   "metadata": {},
   "outputs": [],
   "source": [
    "# För att ladda\n",
    "\"\"\" df_full = pd.read_parquet('data/processed/df_full.parquet')\n",
    "\n",
    "print(f\"Laddade {len(df_full)} annotationer!\") \"\"\"\n",
    "\n"
   ]
  }
 ],
 "metadata": {
  "kernelspec": {
   "display_name": "examination-ai-application",
   "language": "python",
   "name": "python3"
  },
  "language_info": {
   "codemirror_mode": {
    "name": "ipython",
    "version": 3
   },
   "file_extension": ".py",
   "mimetype": "text/x-python",
   "name": "python",
   "nbconvert_exporter": "python",
   "pygments_lexer": "ipython3",
   "version": "3.11.2"
  }
 },
 "nbformat": 4,
 "nbformat_minor": 5
}
