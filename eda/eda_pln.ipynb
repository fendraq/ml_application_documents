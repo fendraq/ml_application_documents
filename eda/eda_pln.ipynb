{
 "cells": [
  {
   "cell_type": "markdown",
   "id": "9bded231",
   "metadata": {},
   "source": [
    "# EDA på PLN dataset"
   ]
  },
  {
   "cell_type": "code",
   "execution_count": 2,
   "id": "1eaa4a57",
   "metadata": {},
   "outputs": [],
   "source": [
    "import polars as pl"
   ]
  },
  {
   "cell_type": "code",
   "execution_count": 3,
   "id": "739dcd02",
   "metadata": {},
   "outputs": [],
   "source": [
    "\n",
    "df_images = pl.read_parquet('../data/processed/labels/df_images.parquet')\n",
    "df_annotations = pl.read_parquet('../data/processed/labels/df_annotations.parquet')\n",
    "df_categories = pl.read_parquet('../data/processed/labels/df_categories.parquet')\n",
    "df_full = pl.read_parquet('../data/processed/labels/df_full.parquet')\n"
   ]
  },
  {
   "cell_type": "code",
   "execution_count": 5,
   "id": "9e6fbfc4",
   "metadata": {},
   "outputs": [
    {
     "data": {
      "text/html": [
       "<div><style>\n",
       ".dataframe > thead > tr,\n",
       ".dataframe > tbody > tr {\n",
       "  text-align: right;\n",
       "  white-space: pre-wrap;\n",
       "}\n",
       "</style>\n",
       "<small>shape: (9, 13)</small><table border=\"1\" class=\"dataframe\"><thead><tr><th>statistic</th><th>segmentation</th><th>area</th><th>iscrowd</th><th>image_id</th><th>bbox</th><th>category_id</th><th>id</th><th>file_name</th><th>height</th><th>width</th><th>supercategory</th><th>name</th></tr><tr><td>str</td><td>f64</td><td>f64</td><td>f64</td><td>f64</td><td>f64</td><td>f64</td><td>f64</td><td>str</td><td>f64</td><td>f64</td><td>str</td><td>str</td></tr></thead><tbody><tr><td>&quot;count&quot;</td><td>3.263046e6</td><td>3.263046e6</td><td>3.263046e6</td><td>3.263046e6</td><td>3.263046e6</td><td>3.263046e6</td><td>3.263046e6</td><td>&quot;3263046&quot;</td><td>3.263046e6</td><td>3.263046e6</td><td>&quot;3263046&quot;</td><td>&quot;3263046&quot;</td></tr><tr><td>&quot;null_count&quot;</td><td>0.0</td><td>0.0</td><td>0.0</td><td>0.0</td><td>0.0</td><td>0.0</td><td>0.0</td><td>&quot;0&quot;</td><td>0.0</td><td>0.0</td><td>&quot;0&quot;</td><td>&quot;0&quot;</td></tr><tr><td>&quot;mean&quot;</td><td>null</td><td>25094.246512</td><td>0.0</td><td>170173.67554</td><td>null</td><td>1.469915</td><td>1.6560e6</td><td>null</td><td>792.474461</td><td>595.185445</td><td>null</td><td>null</td></tr><tr><td>&quot;std&quot;</td><td>null</td><td>33536.571138</td><td>0.0</td><td>98048.855376</td><td>null</td><td>0.942879</td><td>955894.627695</td><td>null</td><td>30.800791</td><td>28.876088</td><td>null</td><td>null</td></tr><tr><td>&quot;min&quot;</td><td>null</td><td>0.0</td><td>0.0</td><td>0.0</td><td>null</td><td>1.0</td><td>0.0</td><td>&quot;PMC1064080_00000.jpg&quot;</td><td>431.0</td><td>391.0</td><td>&quot;&quot;</td><td>&quot;figure&quot;</td></tr><tr><td>&quot;25%&quot;</td><td>null</td><td>3707.921</td><td>0.0</td><td>85491.0</td><td>null</td><td>1.0</td><td>827769.0</td><td>null</td><td>791.0</td><td>596.0</td><td>null</td><td>null</td></tr><tr><td>&quot;50%&quot;</td><td>null</td><td>15076.477708</td><td>0.0</td><td>170293.0</td><td>null</td><td>1.0</td><td>1.656051e6</td><td>null</td><td>792.0</td><td>596.0</td><td>null</td><td>null</td></tr><tr><td>&quot;75%&quot;</td><td>null</td><td>33871.302485</td><td>0.0</td><td>254731.0</td><td>null</td><td>2.0</td><td>2.483743e6</td><td>null</td><td>794.0</td><td>601.0</td><td>null</td><td>null</td></tr><tr><td>&quot;max&quot;</td><td>null</td><td>397042.567074</td><td>0.0</td><td>340390.0</td><td>null</td><td>5.0</td><td>3.311659e6</td><td>&quot;PMC6105291_00011.jpg&quot;</td><td>1224.0</td><td>855.0</td><td>&quot;&quot;</td><td>&quot;title&quot;</td></tr></tbody></table></div>"
      ],
      "text/plain": [
       "shape: (9, 13)\n",
       "┌────────────┬───────────┬───────────┬───────────┬───┬───────────┬───────────┬───────────┬─────────┐\n",
       "│ statistic  ┆ segmentat ┆ area      ┆ iscrowd   ┆ … ┆ height    ┆ width     ┆ supercate ┆ name    │\n",
       "│ ---        ┆ ion       ┆ ---       ┆ ---       ┆   ┆ ---       ┆ ---       ┆ gory      ┆ ---     │\n",
       "│ str        ┆ ---       ┆ f64       ┆ f64       ┆   ┆ f64       ┆ f64       ┆ ---       ┆ str     │\n",
       "│            ┆ f64       ┆           ┆           ┆   ┆           ┆           ┆ str       ┆         │\n",
       "╞════════════╪═══════════╪═══════════╪═══════════╪═══╪═══════════╪═══════════╪═══════════╪═════════╡\n",
       "│ count      ┆ 3.263046e ┆ 3.263046e ┆ 3.263046e ┆ … ┆ 3.263046e ┆ 3.263046e ┆ 3263046   ┆ 3263046 │\n",
       "│            ┆ 6         ┆ 6         ┆ 6         ┆   ┆ 6         ┆ 6         ┆           ┆         │\n",
       "│ null_count ┆ 0.0       ┆ 0.0       ┆ 0.0       ┆ … ┆ 0.0       ┆ 0.0       ┆ 0         ┆ 0       │\n",
       "│ mean       ┆ null      ┆ 25094.246 ┆ 0.0       ┆ … ┆ 792.47446 ┆ 595.18544 ┆ null      ┆ null    │\n",
       "│            ┆           ┆ 512       ┆           ┆   ┆ 1         ┆ 5         ┆           ┆         │\n",
       "│ std        ┆ null      ┆ 33536.571 ┆ 0.0       ┆ … ┆ 30.800791 ┆ 28.876088 ┆ null      ┆ null    │\n",
       "│            ┆           ┆ 138       ┆           ┆   ┆           ┆           ┆           ┆         │\n",
       "│ min        ┆ null      ┆ 0.0       ┆ 0.0       ┆ … ┆ 431.0     ┆ 391.0     ┆           ┆ figure  │\n",
       "│ 25%        ┆ null      ┆ 3707.921  ┆ 0.0       ┆ … ┆ 791.0     ┆ 596.0     ┆ null      ┆ null    │\n",
       "│ 50%        ┆ null      ┆ 15076.477 ┆ 0.0       ┆ … ┆ 792.0     ┆ 596.0     ┆ null      ┆ null    │\n",
       "│            ┆           ┆ 708       ┆           ┆   ┆           ┆           ┆           ┆         │\n",
       "│ 75%        ┆ null      ┆ 33871.302 ┆ 0.0       ┆ … ┆ 794.0     ┆ 601.0     ┆ null      ┆ null    │\n",
       "│            ┆           ┆ 485       ┆           ┆   ┆           ┆           ┆           ┆         │\n",
       "│ max        ┆ null      ┆ 397042.56 ┆ 0.0       ┆ … ┆ 1224.0    ┆ 855.0     ┆           ┆ title   │\n",
       "│            ┆           ┆ 7074      ┆           ┆   ┆           ┆           ┆           ┆         │\n",
       "└────────────┴───────────┴───────────┴───────────┴───┴───────────┴───────────┴───────────┴─────────┘"
      ]
     },
     "execution_count": 5,
     "metadata": {},
     "output_type": "execute_result"
    }
   ],
   "source": [
    "df_full.describe()"
   ]
  },
  {
   "cell_type": "code",
   "execution_count": 6,
   "id": "078d4f18",
   "metadata": {},
   "outputs": [
    {
     "data": {
      "text/html": [
       "<div><style>\n",
       ".dataframe > thead > tr,\n",
       ".dataframe > tbody > tr {\n",
       "  text-align: right;\n",
       "  white-space: pre-wrap;\n",
       "}\n",
       "</style>\n",
       "<small>shape: (5, 12)</small><table border=\"1\" class=\"dataframe\"><thead><tr><th>segmentation</th><th>area</th><th>iscrowd</th><th>image_id</th><th>bbox</th><th>category_id</th><th>id</th><th>file_name</th><th>height</th><th>width</th><th>supercategory</th><th>name</th></tr><tr><td>list[list[decimal[38,2]]]</td><td>decimal[38,14]</td><td>i64</td><td>i64</td><td>list[decimal[38,2]]</td><td>i64</td><td>i64</td><td>str</td><td>i64</td><td>i64</td><td>str</td><td>str</td></tr></thead><tbody><tr><td>[[52.38, 444.87, … 444.87]]</td><td>13787.43308252503600</td><td>0</td><td>0</td><td>[40.42, 444.87, … 63.86]</td><td>1</td><td>0</td><td>&quot;PMC3866684_00003.jpg&quot;</td><td>811</td><td>613</td><td>&quot;&quot;</td><td>&quot;text&quot;</td></tr><tr><td>[[309.91, 444.91, … 444.91]]</td><td>3266.25263366696900</td><td>0</td><td>0</td><td>[309.91, 444.91, … 21.97]</td><td>1</td><td>1</td><td>&quot;PMC3866684_00003.jpg&quot;</td><td>811</td><td>613</td><td>&quot;&quot;</td><td>&quot;text&quot;</td></tr><tr><td>[[52.38, 507.66, … 507.66]]</td><td>8037.09504670265600</td><td>0</td><td>0</td><td>[40.42, 507.66, … 32.45]</td><td>1</td><td>2</td><td>&quot;PMC3866684_00003.jpg&quot;</td><td>811</td><td>613</td><td>&quot;&quot;</td><td>&quot;text&quot;</td></tr><tr><td>[[321.87, 465.80, … 465.80]]</td><td>18566.00016906159000</td><td>0</td><td>0</td><td>[309.91, 465.80, … 74.30]</td><td>1</td><td>3</td><td>&quot;PMC3866684_00003.jpg&quot;</td><td>811</td><td>613</td><td>&quot;&quot;</td><td>&quot;text&quot;</td></tr><tr><td>[[40.42, 397.09, … 397.09]]</td><td>17140.38018086704000</td><td>0</td><td>0</td><td>[40.42, 397.09, … 34.83]</td><td>1</td><td>4</td><td>&quot;PMC3866684_00003.jpg&quot;</td><td>811</td><td>613</td><td>&quot;&quot;</td><td>&quot;text&quot;</td></tr></tbody></table></div>"
      ],
      "text/plain": [
       "shape: (5, 12)\n",
       "┌────────────────┬────────────────┬─────────┬──────────┬───┬────────┬───────┬───────────────┬──────┐\n",
       "│ segmentation   ┆ area           ┆ iscrowd ┆ image_id ┆ … ┆ height ┆ width ┆ supercategory ┆ name │\n",
       "│ ---            ┆ ---            ┆ ---     ┆ ---      ┆   ┆ ---    ┆ ---   ┆ ---           ┆ ---  │\n",
       "│ list[list[deci ┆ decimal[38,14] ┆ i64     ┆ i64      ┆   ┆ i64    ┆ i64   ┆ str           ┆ str  │\n",
       "│ mal[38,2]]]    ┆                ┆         ┆          ┆   ┆        ┆       ┆               ┆      │\n",
       "╞════════════════╪════════════════╪═════════╪══════════╪═══╪════════╪═══════╪═══════════════╪══════╡\n",
       "│ [[52.38,       ┆ 13787.43308252 ┆ 0       ┆ 0        ┆ … ┆ 811    ┆ 613   ┆               ┆ text │\n",
       "│ 444.87, …      ┆ 503600         ┆         ┆          ┆   ┆        ┆       ┆               ┆      │\n",
       "│ 444.87]]       ┆                ┆         ┆          ┆   ┆        ┆       ┆               ┆      │\n",
       "│ [[309.91,      ┆ 3266.252633666 ┆ 0       ┆ 0        ┆ … ┆ 811    ┆ 613   ┆               ┆ text │\n",
       "│ 444.91, …      ┆ 96900          ┆         ┆          ┆   ┆        ┆       ┆               ┆      │\n",
       "│ 444.91]]       ┆                ┆         ┆          ┆   ┆        ┆       ┆               ┆      │\n",
       "│ [[52.38,       ┆ 8037.095046702 ┆ 0       ┆ 0        ┆ … ┆ 811    ┆ 613   ┆               ┆ text │\n",
       "│ 507.66, …      ┆ 65600          ┆         ┆          ┆   ┆        ┆       ┆               ┆      │\n",
       "│ 507.66]]       ┆                ┆         ┆          ┆   ┆        ┆       ┆               ┆      │\n",
       "│ [[321.87,      ┆ 18566.00016906 ┆ 0       ┆ 0        ┆ … ┆ 811    ┆ 613   ┆               ┆ text │\n",
       "│ 465.80, …      ┆ 159000         ┆         ┆          ┆   ┆        ┆       ┆               ┆      │\n",
       "│ 465.80]]       ┆                ┆         ┆          ┆   ┆        ┆       ┆               ┆      │\n",
       "│ [[40.42,       ┆ 17140.38018086 ┆ 0       ┆ 0        ┆ … ┆ 811    ┆ 613   ┆               ┆ text │\n",
       "│ 397.09, …      ┆ 704000         ┆         ┆          ┆   ┆        ┆       ┆               ┆      │\n",
       "│ 397.09]]       ┆                ┆         ┆          ┆   ┆        ┆       ┆               ┆      │\n",
       "└────────────────┴────────────────┴─────────┴──────────┴───┴────────┴───────┴───────────────┴──────┘"
      ]
     },
     "execution_count": 6,
     "metadata": {},
     "output_type": "execute_result"
    }
   ],
   "source": [
    "df_full.head()"
   ]
  },
  {
   "cell_type": "code",
   "execution_count": 12,
   "id": "93a604f8",
   "metadata": {},
   "outputs": [
    {
     "data": {
      "text/plain": [
       "335703"
      ]
     },
     "execution_count": 12,
     "metadata": {},
     "output_type": "execute_result"
    }
   ],
   "source": [
    "df_full['file_name'].n_unique()"
   ]
  },
  {
   "cell_type": "markdown",
   "id": "750b2dd2",
   "metadata": {},
   "source": [
    "335703 unika men har 47958 dokument. Behöver alltså minska df mer."
   ]
  },
  {
   "cell_type": "markdown",
   "id": "ea75774f",
   "metadata": {},
   "source": [
    "## Att behålla beroende på syfte\n",
    "### Binär klassificering av förstasida eller inte\n",
    "Behåll inget"
   ]
  }
 ],
 "metadata": {
  "kernelspec": {
   "display_name": "examination-ai-application",
   "language": "python",
   "name": "python3"
  },
  "language_info": {
   "codemirror_mode": {
    "name": "ipython",
    "version": 3
   },
   "file_extension": ".py",
   "mimetype": "text/x-python",
   "name": "python",
   "nbconvert_exporter": "python",
   "pygments_lexer": "ipython3",
   "version": "3.11.2"
  }
 },
 "nbformat": 4,
 "nbformat_minor": 5
}
