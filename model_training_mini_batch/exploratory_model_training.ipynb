{
 "cells": [
  {
   "cell_type": "markdown",
   "id": "f480afaf",
   "metadata": {},
   "source": [
    "# Exploratory model training on minibatch\n",
    "Trying out som different models to build a pipeline to be trained on the whole dataset."
   ]
  },
  {
   "cell_type": "code",
   "execution_count": 1,
   "id": "e9552624",
   "metadata": {},
   "outputs": [],
   "source": [
    "# Imports\n",
    "import numpy as np\n",
    "import polars as pl\n",
    "import time\n",
    "\n",
    "from sklearn.model_selection import GridSearchCV, train_test_split \n",
    "from sklearn.preprocessing import StandardScaler\n",
    "\n",
    "from sklearn.neighbors import KNeighborsClassifier\n",
    "from sklearn.ensemble import RandomForestClassifier\n",
    "from sklearn.svm import SVC\n",
    "from sklearn.linear_model import LogisticRegression\n",
    "\n",
    "\n"
   ]
  },
  {
   "cell_type": "code",
   "execution_count": 2,
   "id": "7e050355",
   "metadata": {},
   "outputs": [],
   "source": [
    "# Import np arrays\n",
    "X = np.load('../data/processed/pln_X_small_features_raw_128x128.npy')\n",
    "y = np.load('../data/processed/pln_y_small_labels.npy')"
   ]
  },
  {
   "cell_type": "code",
   "execution_count": 3,
   "id": "27a455ac",
   "metadata": {},
   "outputs": [],
   "source": [
    "# Train/test split\n",
    "X_train, X_test, y_train, y_test = train_test_split(\n",
    "    X, y, test_size=0.23, \n",
    "    random_state=42,\n",
    "    stratify=y\n",
    ")"
   ]
  },
  {
   "cell_type": "code",
   "execution_count": 4,
   "id": "061b7f45",
   "metadata": {},
   "outputs": [],
   "source": [
    "# Scaling\n",
    "\n",
    "scaler = StandardScaler()\n",
    "X_trained_scaled = scaler.fit_transform(X_train)\n",
    "X_test_scaled = scaler.transform(X_test)"
   ]
  },
  {
   "cell_type": "code",
   "execution_count": 5,
   "id": "5004a8e9",
   "metadata": {},
   "outputs": [],
   "source": [
    "# Models\n",
    "rfc = RandomForestClassifier()\n",
    "knc = KNeighborsClassifier()\n",
    "svc = SVC()\n",
    "lr = LogisticRegression()"
   ]
  },
  {
   "cell_type": "code",
   "execution_count": 6,
   "id": "bfc5483c",
   "metadata": {},
   "outputs": [],
   "source": [
    "# GridSearch hyperparameters\n",
    "\n",
    "# RandomForestClassifier\n",
    "n_estimators = [50, 100, 150]\n",
    "maximum_depth = [None, 10, 20, 30]\n",
    "min_samples_split = [2, 5, 10]\n",
    "\n",
    "# KNeighborsClassifier\n",
    "n_neighbors = [2, 5, 10]\n",
    "weights = ['uniform', 'distance']\n",
    "metric = ['minkowski', 'euclidean']\n",
    "\n",
    "# SVC\n",
    "svc_c = [0.5, 1, 2]\n",
    "kernel = ['rbf', 'poly', 'sigmoid']\n",
    "\n",
    "# LogisticRegression\n",
    "lr_c = [0.1, 1]\n",
    "max_iter = [100, 300]\n",
    "param_grid_l1 = {'penalty': ['l1'], 'solver': ['liblinear'], 'C': lr_c, 'max_iter': max_iter}\n",
    "param_grid_l2 = {'penalty': ['l2'], 'solver': ['lbfgs'], 'C': lr_c, 'max_iter': max_iter}\n",
    "param_grid_elasticnet = {'penalty': ['elasticnet'], 'solver': ['saga'], 'C': lr_c, 'max_iter': max_iter, 'l1_ratio': [0.5]}\n",
    "\n",
    "\n",
    "model_dict = {\n",
    "    'rfc': (\n",
    "        rfc, \n",
    "        {\n",
    "            'n_estimators': n_estimators,\n",
    "            'max_depth': maximum_depth,\n",
    "            'min_samples_split': min_samples_split\n",
    "        }\n",
    "    ),\n",
    "    'knc': (\n",
    "        knc,\n",
    "        {\n",
    "            'n_neighbors':n_neighbors,\n",
    "            'weights': weights,\n",
    "            'metric': metric\n",
    "        }\n",
    "    ),\n",
    "    'scv': (\n",
    "        svc,\n",
    "        {\n",
    "            'C': svc_c,\n",
    "            'kernel': kernel\n",
    "        }\n",
    "    ),\n",
    "    'lr': (\n",
    "        lr,\n",
    "        [param_grid_l1, param_grid_l2, param_grid_elasticnet]\n",
    "    ),\n",
    "}\n"
   ]
  },
  {
   "cell_type": "code",
   "execution_count": 7,
   "id": "a6155fcf",
   "metadata": {},
   "outputs": [
    {
     "name": "stdout",
     "output_type": "stream",
     "text": [
      "rfc 33.92333912849426 0.9324675324675324 {'max_depth': 20, 'min_samples_split': 5, 'n_estimators': 100}\n",
      "knc 1.8457927703857422 0.9272727272727271 {'metric': 'minkowski', 'n_neighbors': 2, 'weights': 'distance'}\n",
      "scv 20.9615638256073 0.922077922077922 {'C': 2, 'kernel': 'rbf'}\n"
     ]
    },
    {
     "name": "stderr",
     "output_type": "stream",
     "text": [
      "/home/fendraq/wsl_projects/machine_learning/examination_ai_application/.venv/lib/python3.12/site-packages/sklearn/linear_model/_sag.py:348: ConvergenceWarning: The max_iter was reached which means the coef_ did not converge\n",
      "  warnings.warn(\n",
      "/home/fendraq/wsl_projects/machine_learning/examination_ai_application/.venv/lib/python3.12/site-packages/sklearn/linear_model/_sag.py:348: ConvergenceWarning: The max_iter was reached which means the coef_ did not converge\n",
      "  warnings.warn(\n",
      "/home/fendraq/wsl_projects/machine_learning/examination_ai_application/.venv/lib/python3.12/site-packages/sklearn/linear_model/_sag.py:348: ConvergenceWarning: The max_iter was reached which means the coef_ did not converge\n",
      "  warnings.warn(\n",
      "/home/fendraq/wsl_projects/machine_learning/examination_ai_application/.venv/lib/python3.12/site-packages/sklearn/linear_model/_sag.py:348: ConvergenceWarning: The max_iter was reached which means the coef_ did not converge\n",
      "  warnings.warn(\n",
      "/home/fendraq/wsl_projects/machine_learning/examination_ai_application/.venv/lib/python3.12/site-packages/sklearn/linear_model/_sag.py:348: ConvergenceWarning: The max_iter was reached which means the coef_ did not converge\n",
      "  warnings.warn(\n",
      "/home/fendraq/wsl_projects/machine_learning/examination_ai_application/.venv/lib/python3.12/site-packages/sklearn/linear_model/_sag.py:348: ConvergenceWarning: The max_iter was reached which means the coef_ did not converge\n",
      "  warnings.warn(\n",
      "/home/fendraq/wsl_projects/machine_learning/examination_ai_application/.venv/lib/python3.12/site-packages/sklearn/linear_model/_sag.py:348: ConvergenceWarning: The max_iter was reached which means the coef_ did not converge\n",
      "  warnings.warn(\n",
      "/home/fendraq/wsl_projects/machine_learning/examination_ai_application/.venv/lib/python3.12/site-packages/sklearn/linear_model/_sag.py:348: ConvergenceWarning: The max_iter was reached which means the coef_ did not converge\n",
      "  warnings.warn(\n",
      "/home/fendraq/wsl_projects/machine_learning/examination_ai_application/.venv/lib/python3.12/site-packages/sklearn/linear_model/_sag.py:348: ConvergenceWarning: The max_iter was reached which means the coef_ did not converge\n",
      "  warnings.warn(\n",
      "/home/fendraq/wsl_projects/machine_learning/examination_ai_application/.venv/lib/python3.12/site-packages/sklearn/linear_model/_sag.py:348: ConvergenceWarning: The max_iter was reached which means the coef_ did not converge\n",
      "  warnings.warn(\n",
      "/home/fendraq/wsl_projects/machine_learning/examination_ai_application/.venv/lib/python3.12/site-packages/sklearn/linear_model/_sag.py:348: ConvergenceWarning: The max_iter was reached which means the coef_ did not converge\n",
      "  warnings.warn(\n",
      "/home/fendraq/wsl_projects/machine_learning/examination_ai_application/.venv/lib/python3.12/site-packages/sklearn/linear_model/_sag.py:348: ConvergenceWarning: The max_iter was reached which means the coef_ did not converge\n",
      "  warnings.warn(\n",
      "/home/fendraq/wsl_projects/machine_learning/examination_ai_application/.venv/lib/python3.12/site-packages/sklearn/linear_model/_sag.py:348: ConvergenceWarning: The max_iter was reached which means the coef_ did not converge\n",
      "  warnings.warn(\n",
      "/home/fendraq/wsl_projects/machine_learning/examination_ai_application/.venv/lib/python3.12/site-packages/sklearn/linear_model/_sag.py:348: ConvergenceWarning: The max_iter was reached which means the coef_ did not converge\n",
      "  warnings.warn(\n",
      "/home/fendraq/wsl_projects/machine_learning/examination_ai_application/.venv/lib/python3.12/site-packages/sklearn/linear_model/_sag.py:348: ConvergenceWarning: The max_iter was reached which means the coef_ did not converge\n",
      "  warnings.warn(\n",
      "/home/fendraq/wsl_projects/machine_learning/examination_ai_application/.venv/lib/python3.12/site-packages/sklearn/linear_model/_sag.py:348: ConvergenceWarning: The max_iter was reached which means the coef_ did not converge\n",
      "  warnings.warn(\n",
      "/home/fendraq/wsl_projects/machine_learning/examination_ai_application/.venv/lib/python3.12/site-packages/sklearn/linear_model/_sag.py:348: ConvergenceWarning: The max_iter was reached which means the coef_ did not converge\n",
      "  warnings.warn(\n",
      "/home/fendraq/wsl_projects/machine_learning/examination_ai_application/.venv/lib/python3.12/site-packages/sklearn/linear_model/_sag.py:348: ConvergenceWarning: The max_iter was reached which means the coef_ did not converge\n",
      "  warnings.warn(\n",
      "/home/fendraq/wsl_projects/machine_learning/examination_ai_application/.venv/lib/python3.12/site-packages/sklearn/linear_model/_sag.py:348: ConvergenceWarning: The max_iter was reached which means the coef_ did not converge\n",
      "  warnings.warn(\n",
      "/home/fendraq/wsl_projects/machine_learning/examination_ai_application/.venv/lib/python3.12/site-packages/sklearn/linear_model/_sag.py:348: ConvergenceWarning: The max_iter was reached which means the coef_ did not converge\n",
      "  warnings.warn(\n"
     ]
    },
    {
     "name": "stdout",
     "output_type": "stream",
     "text": [
      "lr 82.70813989639282 0.9220779220779219 {'C': 0.1, 'max_iter': 100, 'penalty': 'l2', 'solver': 'lbfgs'}\n"
     ]
    }
   ],
   "source": [
    "# Using GridSearchCV - hyperparams\n",
    "all_results = {}\n",
    "\n",
    "for name, (model, param_grid) in model_dict.items():\n",
    "    start = time.time()\n",
    "    grid = GridSearchCV(model, param_grid, n_jobs=-1)\n",
    "    grid.fit(X_trained_scaled, y_train)\n",
    "    end = time.time()\n",
    "    elapsed = end - start\n",
    "    all_results[name] = grid\n",
    "    print(name, elapsed, grid.best_score_, grid.best_params_)"
   ]
  },
  {
   "cell_type": "markdown",
   "id": "02249842",
   "metadata": {},
   "source": [
    "Short conclusion\n",
    "- rfc 33.92333912849426 0.9324675324675324 {'max_depth': 20, 'min_samples_split': 5, 'n_estimators': 100}\n",
    "- knc 1.8457927703857422 0.9272727272727271 {'metric': 'minkowski', 'n_neighbors': 2, 'weights': 'distance'}\n",
    "- scv 20.9615638256073 0.922077922077922 {'C': 2, 'kernel': 'rbf'}\n",
    "- lr 82.70813989639282 0.9220779220779219 {'C': 0.1, 'max_iter': 100, 'penalty': 'l2', 'solver': 'lbfgs'}\n"
   ]
  },
  {
   "cell_type": "markdown",
   "id": "5da3d3cf",
   "metadata": {},
   "source": [
    "## Comparison of the models"
   ]
  },
  {
   "cell_type": "code",
   "execution_count": 11,
   "id": "9f3cb839",
   "metadata": {},
   "outputs": [
    {
     "data": {
      "text/html": [
       "<div><style>\n",
       ".dataframe > thead > tr,\n",
       ".dataframe > tbody > tr {\n",
       "  text-align: right;\n",
       "  white-space: pre-wrap;\n",
       "}\n",
       "</style>\n",
       "<small>shape: (4, 3)</small><table border=\"1\" class=\"dataframe\"><thead><tr><th>model</th><th>best_score</th><th>best_params</th></tr><tr><td>str</td><td>f64</td><td>str</td></tr></thead><tbody><tr><td>&quot;rfc&quot;</td><td>0.932468</td><td>&quot;{&#x27;max_depth&#x27;: 20, &#x27;min_samples…</td></tr><tr><td>&quot;knc&quot;</td><td>0.927273</td><td>&quot;{&#x27;metric&#x27;: &#x27;minkowski&#x27;, &#x27;n_nei…</td></tr><tr><td>&quot;scv&quot;</td><td>0.922078</td><td>&quot;{&#x27;C&#x27;: 2, &#x27;kernel&#x27;: &#x27;rbf&#x27;}&quot;</td></tr><tr><td>&quot;lr&quot;</td><td>0.922078</td><td>&quot;{&#x27;C&#x27;: 0.1, &#x27;max_iter&#x27;: 100, &#x27;p…</td></tr></tbody></table></div>"
      ],
      "text/plain": [
       "shape: (4, 3)\n",
       "┌───────┬────────────┬─────────────────────────────────┐\n",
       "│ model ┆ best_score ┆ best_params                     │\n",
       "│ ---   ┆ ---        ┆ ---                             │\n",
       "│ str   ┆ f64        ┆ str                             │\n",
       "╞═══════╪════════════╪═════════════════════════════════╡\n",
       "│ rfc   ┆ 0.932468   ┆ {'max_depth': 20, 'min_samples… │\n",
       "│ knc   ┆ 0.927273   ┆ {'metric': 'minkowski', 'n_nei… │\n",
       "│ scv   ┆ 0.922078   ┆ {'C': 2, 'kernel': 'rbf'}       │\n",
       "│ lr    ┆ 0.922078   ┆ {'C': 0.1, 'max_iter': 100, 'p… │\n",
       "└───────┴────────────┴─────────────────────────────────┘"
      ]
     },
     "execution_count": 11,
     "metadata": {},
     "output_type": "execute_result"
    }
   ],
   "source": [
    "results_list = []\n",
    "for name, grid in all_results.items():\n",
    "    results_list.append({\n",
    "        \"model\": name,\n",
    "        \"best_score\": grid.best_score_,\n",
    "        \"best_params\": str(grid.best_params_)\n",
    "    })\n",
    "\n",
    "results_df = pl.DataFrame(results_list, strict=False)\n",
    "results_df"
   ]
  },
  {
   "cell_type": "markdown",
   "id": "3ca0c2a3",
   "metadata": {},
   "source": [
    "### Evaluation RandomForestClassifier"
   ]
  },
  {
   "cell_type": "code",
   "execution_count": 9,
   "id": "f1044d1b",
   "metadata": {},
   "outputs": [],
   "source": [
    "# Evaluation RandomForestClassifier\n"
   ]
  },
  {
   "cell_type": "markdown",
   "id": "dfb7ab74",
   "metadata": {},
   "source": [
    "### Evaluation KNeighborClassifier"
   ]
  },
  {
   "cell_type": "markdown",
   "id": "c7c20cda",
   "metadata": {},
   "source": [
    "### Evaluation SVC"
   ]
  },
  {
   "cell_type": "markdown",
   "id": "ae8da076",
   "metadata": {},
   "source": [
    "### Evaluation LogisticRegression"
   ]
  }
 ],
 "metadata": {
  "kernelspec": {
   "display_name": ".venv",
   "language": "python",
   "name": "python3"
  },
  "language_info": {
   "codemirror_mode": {
    "name": "ipython",
    "version": 3
   },
   "file_extension": ".py",
   "mimetype": "text/x-python",
   "name": "python",
   "nbconvert_exporter": "python",
   "pygments_lexer": "ipython3",
   "version": "3.12.3"
  }
 },
 "nbformat": 4,
 "nbformat_minor": 5
}
