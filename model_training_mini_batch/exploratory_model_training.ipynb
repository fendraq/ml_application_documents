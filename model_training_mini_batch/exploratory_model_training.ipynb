{
 "cells": [
  {
   "cell_type": "markdown",
   "id": "f480afaf",
   "metadata": {},
   "source": [
    "# Exploratory model training on minibatch\n",
    "Trying out som different models to build a pipeline to be trained on the whole dataset."
   ]
  },
  {
   "cell_type": "code",
   "execution_count": 1,
   "id": "e9552624",
   "metadata": {},
   "outputs": [],
   "source": [
    "# Imports\n",
    "import numpy as np\n",
    "\n",
    "from sklearn.model_selection import train_test_split\n",
    "from sklearn.preprocessing import StandardScaler\n",
    "\n",
    "from sklearn.neighbors import KNeighborsClassifier\n",
    "from sklearn.ensemble import RandomForestClassifier\n",
    "from sklearn.svm import SVC\n",
    "from sklearn.linear_model import LogisticRegression\n",
    "\n"
   ]
  },
  {
   "cell_type": "code",
   "execution_count": 2,
   "id": "7e050355",
   "metadata": {},
   "outputs": [],
   "source": [
    "# Import np arrays\n",
    "X = np.load('../data/processed/pln_X_small_features_raw_128x128.npy')\n",
    "y = np.load('../data/processed/pln_y_small_labels.npy')"
   ]
  },
  {
   "cell_type": "code",
   "execution_count": 3,
   "id": "27a455ac",
   "metadata": {},
   "outputs": [],
   "source": [
    "# Train/test split\n",
    "X_train, X_test, y_train, y_test = train_test_split(\n",
    "    X, y, test_size=0.23, \n",
    "    random_state=42,\n",
    "    stratify=y\n",
    ")"
   ]
  },
  {
   "cell_type": "code",
   "execution_count": 5,
   "id": "061b7f45",
   "metadata": {},
   "outputs": [],
   "source": [
    "# Scaling\n",
    "\n",
    "scaler = StandardScaler()\n",
    "X_trained_scaled = scaler.fit_transform(X_train)\n",
    "X_test_scaled = scaler.transform(X_test)"
   ]
  },
  {
   "cell_type": "code",
   "execution_count": null,
   "id": "5004a8e9",
   "metadata": {},
   "outputs": [],
   "source": [
    "# Models\n",
    "rfc = RandomForestClassifier()\n",
    "knc = KNeighborsClassifier()\n",
    "scv = SVC()\n",
    "lr = LogisticRegression()"
   ]
  },
  {
   "cell_type": "code",
   "execution_count": null,
   "id": "bfc5483c",
   "metadata": {},
   "outputs": [],
   "source": [
    "# GridSearch hyperparameters\n",
    "\n",
    "# RandomForestClassifier\n",
    "n_estimators = [50, 100, 150]\n",
    "maximum_depth = [None, 10, 20, 30]\n",
    "min_samples_split = [2, 5, 10]\n",
    "\n",
    "# KNeighborsClassifier\n",
    "n_neighbors = [2, 5, 10]\n",
    "weights = ['uniform', 'distance']\n",
    "metric = ['minkowski', 'euclidean']\n",
    "\n",
    "# SVC\n",
    "svc_c = [0.5, 1, 2]\n",
    "kernel = ['rbf', 'poly', 'sigmoid']\n",
    "\n",
    "# LogisticRegression\n",
    "penalty = ['l1', 'l2', 'elasticnet']\n",
    "lr_c = [0.1, 1, 10]\n",
    "solver = ['liblinear', 'saga', 'lbfgs']\n",
    "max_iter = [100, 200, 500]\n",
    "\n",
    "model_dict = \n"
   ]
  },
  {
   "cell_type": "code",
   "execution_count": null,
   "id": "a6155fcf",
   "metadata": {},
   "outputs": [],
   "source": []
  },
  {
   "cell_type": "code",
   "execution_count": null,
   "id": "f1044d1b",
   "metadata": {},
   "outputs": [],
   "source": [
    "# Evaluation"
   ]
  }
 ],
 "metadata": {
  "kernelspec": {
   "display_name": "examination-ai-application",
   "language": "python",
   "name": "python3"
  },
  "language_info": {
   "codemirror_mode": {
    "name": "ipython",
    "version": 3
   },
   "file_extension": ".py",
   "mimetype": "text/x-python",
   "name": "python",
   "nbconvert_exporter": "python",
   "pygments_lexer": "ipython3",
   "version": "3.11.2"
  }
 },
 "nbformat": 4,
 "nbformat_minor": 5
}
