{
 "cells": [
  {
   "cell_type": "markdown",
   "id": "7d559b19",
   "metadata": {},
   "source": [
    "# Adding a column for title page - True/False"
   ]
  },
  {
   "cell_type": "code",
   "execution_count": 3,
   "id": "3801ef9a",
   "metadata": {},
   "outputs": [
    {
     "name": "stdout",
     "output_type": "stream",
     "text": [
      "75146\n"
     ]
    }
   ],
   "source": [
    "import os\n",
    "import polars as pl\n",
    "# Lägga till en column 'title_page' i DF med True/False\n",
    "df_full_filtered = pl.read_parquet('../data/processed/labels/df_full_filtered.parquet')\n",
    "\n",
    "title_page = \"00000\"\n",
    "\n",
    "df_with_title = df_full_filtered.with_columns(\n",
    "    pl.when(pl.col('file_name').str.contains(title_page))\n",
    "    .then(True)\n",
    "    .otherwise(False)\n",
    "    .alias('title_page')\n",
    ")\n",
    "\n",
    "true_count = df_with_title['title_page'].sum()\n",
    "print(true_count)\n",
    "\n",
    "df_with_title.write_parquet('../data/processed/labels/df_full_filtered_with_title.parquet')"
   ]
  }
 ],
 "metadata": {
  "kernelspec": {
   "display_name": "examination-ai-application",
   "language": "python",
   "name": "python3"
  },
  "language_info": {
   "codemirror_mode": {
    "name": "ipython",
    "version": 3
   },
   "file_extension": ".py",
   "mimetype": "text/x-python",
   "name": "python",
   "nbconvert_exporter": "python",
   "pygments_lexer": "ipython3",
   "version": "3.11.2"
  }
 },
 "nbformat": 4,
 "nbformat_minor": 5
}
