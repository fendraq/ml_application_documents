{
 "cells": [
  {
   "cell_type": "markdown",
   "id": "c1f5564f",
   "metadata": {},
   "source": [
    "# Preprocessing PLN dataset for title binary problem"
   ]
  },
  {
   "cell_type": "code",
   "execution_count": 2,
   "id": "a16dc82a",
   "metadata": {},
   "outputs": [],
   "source": [
    "import polars as pl\n",
    "df_full_filtered_with_title = pl.read_parquet('../data/processed/labels/df_full_filtered_with_title.parquet')\n",
    "\n",
    "df_full_filtered_with_title.head()\n",
    "\n",
    "df_with_title = df_full_filtered_with_title['file_name', 'title_page']\n",
    "\n",
    "df_with_title.head()\n",
    "\n",
    "unique_file_name = df_with_title.group_by('file_name').first()\n",
    "\n",
    "unique_file_name.describe()\n",
    "\n",
    "unique_file_name.write_parquet('../data/processed/labels/df_title_page_classification.parquet')"
   ]
  },
  {
   "cell_type": "code",
   "execution_count": 4,
   "id": "8680f270",
   "metadata": {},
   "outputs": [
    {
     "name": "stdout",
     "output_type": "stream",
     "text": [
      "Available files: 47958\n",
      "Rows in DataFrame: 47958\n",
      "Unique filenames in DataFrame: 47958\n",
      "Each file has exactly one representative in DF\n",
      "Files missing in DataFramet: 0\n",
      "Files missing in folder: 0\n",
      "Perfect match between DataFrame and files\n"
     ]
    }
   ],
   "source": [
    "# Checking that every file have just one representative in the data frame.\n",
    "\n",
    "import os\n",
    "\n",
    "documents_folder = '../data/Pub_Lay_Net/documents/'\n",
    "available_files = os.listdir(documents_folder)\n",
    "print(f\"Available files: {len(available_files)}\")\n",
    "\n",
    "df_file_count =  unique_file_name.height\n",
    "unique_files_in_df = unique_file_name['file_name'].n_unique()\n",
    "\n",
    "print(f\"Rows in DataFrame: {df_file_count}\")\n",
    "print(f\"Unique filenames in DataFrame: {unique_files_in_df}\")\n",
    "\n",
    "if df_file_count == unique_files_in_df:\n",
    "    print(\"Each file has exactly one representative in DF\")\n",
    "else:\n",
    "    print(\"Some files have multiple representatives\")\n",
    "\n",
    "df_filenames = set(unique_file_name['file_name'].to_list())\n",
    "available_files_set = set(available_files)\n",
    "\n",
    "missing_in_df =  available_files_set - df_filenames\n",
    "\n",
    "missing_files = df_filenames - available_files_set\n",
    "\n",
    "print(f\"Files missing in DataFramet: {len(missing_in_df)}\")\n",
    "print(f\"Files missing in folder: {len(missing_files)}\")\n",
    "\n",
    "if len(missing_in_df) == 0 and len(missing_files) == 0:\n",
    "    print(\"Perfect match between DataFrame and files\")\n",
    "else:\n",
    "    print(\"Missmatch between DataFrame and file folder\")\n"
   ]
  },
  {
   "cell_type": "code",
   "execution_count": 6,
   "id": "14a3363c",
   "metadata": {},
   "outputs": [
    {
     "data": {
      "text/html": [
       "<div><style>\n",
       ".dataframe > thead > tr,\n",
       ".dataframe > tbody > tr {\n",
       "  text-align: right;\n",
       "  white-space: pre-wrap;\n",
       "}\n",
       "</style>\n",
       "<small>shape: (5, 2)</small><table border=\"1\" class=\"dataframe\"><thead><tr><th>file_name</th><th>title_page</th></tr><tr><td>str</td><td>bool</td></tr></thead><tbody><tr><td>&quot;PMC5762428_00000.jpg&quot;</td><td>true</td></tr><tr><td>&quot;PMC5964361_00008.jpg&quot;</td><td>false</td></tr><tr><td>&quot;PMC5537095_00002.jpg&quot;</td><td>false</td></tr><tr><td>&quot;PMC5563694_00013.jpg&quot;</td><td>false</td></tr><tr><td>&quot;PMC5784211_00004.jpg&quot;</td><td>false</td></tr></tbody></table></div>"
      ],
      "text/plain": [
       "shape: (5, 2)\n",
       "┌──────────────────────┬────────────┐\n",
       "│ file_name            ┆ title_page │\n",
       "│ ---                  ┆ ---        │\n",
       "│ str                  ┆ bool       │\n",
       "╞══════════════════════╪════════════╡\n",
       "│ PMC5762428_00000.jpg ┆ true       │\n",
       "│ PMC5964361_00008.jpg ┆ false      │\n",
       "│ PMC5537095_00002.jpg ┆ false      │\n",
       "│ PMC5563694_00013.jpg ┆ false      │\n",
       "│ PMC5784211_00004.jpg ┆ false      │\n",
       "└──────────────────────┴────────────┘"
      ]
     },
     "execution_count": 6,
     "metadata": {},
     "output_type": "execute_result"
    }
   ],
   "source": [
    "unique_file_name.head()"
   ]
  }
 ],
 "metadata": {
  "kernelspec": {
   "display_name": ".venv",
   "language": "python",
   "name": "python3"
  },
  "language_info": {
   "codemirror_mode": {
    "name": "ipython",
    "version": 3
   },
   "file_extension": ".py",
   "mimetype": "text/x-python",
   "name": "python",
   "nbconvert_exporter": "python",
   "pygments_lexer": "ipython3",
   "version": "3.11.2"
  }
 },
 "nbformat": 4,
 "nbformat_minor": 5
}
