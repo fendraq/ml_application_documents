{
 "cells": [
  {
   "cell_type": "markdown",
   "id": "5c0b87ca",
   "metadata": {},
   "source": [
    "# Tar bort rader som inte har bild."
   ]
  },
  {
   "cell_type": "code",
   "execution_count": null,
   "id": "aacf2cc8",
   "metadata": {},
   "outputs": [],
   "source": [
    "# Lista alla filnamn jag har i mappen /documents\n",
    "\n",
    "# Behåll alla rader som stämmer överens med filnamn"
   ]
  }
 ],
 "metadata": {
  "kernelspec": {
   "display_name": "examination-ai-application",
   "language": "python",
   "name": "python3"
  },
  "language_info": {
   "name": "python",
   "version": "3.11.2"
  }
 },
 "nbformat": 4,
 "nbformat_minor": 5
}
