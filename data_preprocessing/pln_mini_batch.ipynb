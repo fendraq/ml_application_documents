{
 "cells": [
  {
   "cell_type": "markdown",
   "id": "f1382cb9",
   "metadata": {},
   "source": [
    "# Extraction of 500 documents for exploratory model training"
   ]
  },
  {
   "cell_type": "code",
   "execution_count": null,
   "id": "aa00d1d4",
   "metadata": {},
   "outputs": [],
   "source": [
    "# ladda df_full\n",
    "\n",
    "# läs ut de 500 första dokumenten och lägg till i en lista\n",
    "\n",
    "# Plocka ut relevanta rader från df_full till df_mini_batch\n",
    "\n",
    "# kopiera och flytta bilderna till /Pub_Lay_Net/documents/mini_batch/\n",
    "\n",
    "# preprocessa bilderna: pixeldata, normalisera, resize?, kontrast?\n",
    "\n",
    "# skapa ett facit"
   ]
  }
 ],
 "metadata": {
  "kernelspec": {
   "display_name": "examination-ai-application",
   "language": "python",
   "name": "python3"
  },
  "language_info": {
   "name": "python",
   "version": "3.11.2"
  }
 },
 "nbformat": 4,
 "nbformat_minor": 5
}
