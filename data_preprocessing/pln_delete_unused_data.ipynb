{
 "cells": [
  {
   "cell_type": "markdown",
   "id": "5c0b87ca",
   "metadata": {},
   "source": [
    "# Tar bort rader som inte har bild."
   ]
  },
  {
   "cell_type": "code",
   "execution_count": 3,
   "id": "aacf2cc8",
   "metadata": {},
   "outputs": [
    {
     "name": "stdout",
     "output_type": "stream",
     "text": [
      "Available files: 47958\n"
     ]
    }
   ],
   "source": [
    "import os\n",
    "import polars as pl\n",
    "\n",
    "# Lista alla filnamn jag har i mappen /documents\n",
    "\n",
    "documents_folder = '../data/Pub_Lay_Net/documents/'\n",
    "available_files = os.listdir(documents_folder)\n",
    "print(f\"Available files: {len(available_files)}\")\n",
    "\n"
   ]
  },
  {
   "cell_type": "code",
   "execution_count": 4,
   "id": "e56ced22",
   "metadata": {},
   "outputs": [
    {
     "name": "stdout",
     "output_type": "stream",
     "text": [
      "Före filtrering: 3263046 rader\n",
      "Efter filtrering: 465838 rader\n",
      "Borttagna rader: 2797208\n"
     ]
    }
   ],
   "source": [
    "# Behåll alla rader som stämmer överens med filnamn\n",
    "df_full = pl.read_parquet('../data/processed/labels/df_full.parquet')\n",
    "\n",
    "df_filtered = df_full.filter(pl.col('file_name').is_in(available_files))\n",
    "\n",
    "print(f\"Före filtrering: {df_full.height} rader\")\n",
    "print(f\"Efter filtrering: {df_filtered.height} rader\")\n",
    "print(f\"Borttagna rader: {df_full.height - df_filtered.height}\")\n",
    "\n",
    "df_filtered.write_parquet('../data/processed/labels/df_full_filtered.parquet')"
   ]
  }
 ],
 "metadata": {
  "kernelspec": {
   "display_name": "examination-ai-application",
   "language": "python",
   "name": "python3"
  },
  "language_info": {
   "codemirror_mode": {
    "name": "ipython",
    "version": 3
   },
   "file_extension": ".py",
   "mimetype": "text/x-python",
   "name": "python",
   "nbconvert_exporter": "python",
   "pygments_lexer": "ipython3",
   "version": "3.11.2"
  }
 },
 "nbformat": 4,
 "nbformat_minor": 5
}
